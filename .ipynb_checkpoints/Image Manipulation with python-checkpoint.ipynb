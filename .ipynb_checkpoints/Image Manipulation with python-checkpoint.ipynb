{
 "cells": [
  {
   "cell_type": "markdown",
   "id": "ed8135c4",
   "metadata": {},
   "source": [
    "# Image Manipulation"
   ]
  },
  {
   "cell_type": "markdown",
   "id": "ce4b2ba3",
   "metadata": {},
   "source": [
    "let's install the PIL library"
   ]
  },
  {
   "cell_type": "code",
   "execution_count": 1,
   "id": "97d225c7",
   "metadata": {},
   "outputs": [
    {
     "name": "stdout",
     "output_type": "stream",
     "text": [
      "Defaulting to user installation because normal site-packages is not writeable\n",
      "Requirement already satisfied: Pillow in /usr/lib/python3/dist-packages (9.0.1)\n",
      "Note: you may need to restart the kernel to use updated packages.\n"
     ]
    }
   ],
   "source": [
    "pip install Pillow"
   ]
  },
  {
   "cell_type": "markdown",
   "id": "8b53269c",
   "metadata": {},
   "source": [
    "    let's import the libraries"
   ]
  },
  {
   "cell_type": "code",
   "execution_count": 2,
   "id": "4df7ca8e",
   "metadata": {},
   "outputs": [],
   "source": [
    "from PIL  import Image\n"
   ]
  },
  {
   "cell_type": "markdown",
   "id": "110ffe6c",
   "metadata": {},
   "source": [
    "let's open the file"
   ]
  },
  {
   "cell_type": "code",
   "execution_count": 4,
   "id": "33dd8107",
   "metadata": {},
   "outputs": [],
   "source": [
    "im=Image.open('f_28385322_1650897154402_bg_processed.webp')\n",
    "im.show()"
   ]
  },
  {
   "cell_type": "markdown",
   "id": "63944747",
   "metadata": {},
   "source": [
    "change the image from one format(webp) to another(png)"
   ]
  },
  {
   "cell_type": "code",
   "execution_count": 9,
   "id": "d1cee02b",
   "metadata": {},
   "outputs": [
    {
     "ename": "TypeError",
     "evalue": "Image.save() missing 1 required positional argument: 'fp'",
     "output_type": "error",
     "traceback": [
      "\u001b[0;31m---------------------------------------------------------------------------\u001b[0m",
      "\u001b[0;31mTypeError\u001b[0m                                 Traceback (most recent call last)",
      "Input \u001b[0;32mIn [9]\u001b[0m, in \u001b[0;36m<cell line: 1>\u001b[0;34m()\u001b[0m\n\u001b[0;32m----> 1\u001b[0m \u001b[43mim\u001b[49m\u001b[38;5;241;43m.\u001b[39;49m\u001b[43msave\u001b[49m\u001b[43m(\u001b[49m\u001b[38;5;28;43mformat\u001b[39;49m\u001b[38;5;241;43m=\u001b[39;49m\u001b[38;5;124;43m'\u001b[39;49m\u001b[38;5;124;43mpng\u001b[39;49m\u001b[38;5;124;43m'\u001b[39;49m\u001b[43m)\u001b[49m\n",
      "\u001b[0;31mTypeError\u001b[0m: Image.save() missing 1 required positional argument: 'fp'"
     ]
    }
   ],
   "source": [
    "im.save(forformat='png')"
   ]
  },
  {
   "cell_type": "code",
   "execution_count": null,
   "id": "e5cf6e95",
   "metadata": {},
   "outputs": [],
   "source": []
  }
 ],
 "metadata": {
  "kernelspec": {
   "display_name": "Python 3 (ipykernel)",
   "language": "python",
   "name": "python3"
  },
  "language_info": {
   "codemirror_mode": {
    "name": "ipython",
    "version": 3
   },
   "file_extension": ".py",
   "mimetype": "text/x-python",
   "name": "python",
   "nbconvert_exporter": "python",
   "pygments_lexer": "ipython3",
   "version": "3.10.4"
  }
 },
 "nbformat": 4,
 "nbformat_minor": 5
}
